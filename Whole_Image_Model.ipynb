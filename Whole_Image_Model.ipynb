{
 "cells": [
  {
   "cell_type": "code",
   "execution_count": 1,
   "id": "ac3b20f4",
   "metadata": {},
   "outputs": [
    {
     "name": "stderr",
     "output_type": "stream",
     "text": [
      "2025-04-10 18:14:16.680166: I tensorflow/core/platform/cpu_feature_guard.cc:182] This TensorFlow binary is optimized to use available CPU instructions in performance-critical operations.\n",
      "To enable the following instructions: SSE4.1 SSE4.2 AVX AVX2 FMA, in other operations, rebuild TensorFlow with the appropriate compiler flags.\n"
     ]
    }
   ],
   "source": [
    "import tensorflow as tf\n",
    "import keras\n",
    "from keras.models import Sequential\n",
    "from keras.layers import Conv3D, MaxPooling3D, Flatten, Dense, Dropout\n",
    "import nibabel as nib\n",
    "\n",
    "# Define the 3D CNN model\n",
    "def create_3d_cnn(input_shape):\n",
    "    model = Sequential()\n",
    "    \n",
    "    # First convolutional layer\n",
    "    model.add(Conv3D(filters=32, kernel_size=(3, 3, 3), activation='relu', input_shape=input_shape))\n",
    "    model.add(MaxPooling3D(pool_size=(2, 2, 2)))\n",
    "    \n",
    "    # Second convolutional layer\n",
    "    model.add(Conv3D(filters=64, kernel_size=(3, 3, 3), activation='relu'))\n",
    "    model.add(MaxPooling3D(pool_size=(2, 2, 2)))\n",
    "    \n",
    "    # Third convolutional layer\n",
    "    model.add(Conv3D(filters=128, kernel_size=(3, 3, 3), activation='relu'))\n",
    "    model.add(MaxPooling3D(pool_size=(2, 2, 2)))\n",
    "    \n",
    "    # Flatten the output and add dense layers\n",
    "    model.add(Flatten())\n",
    "    model.add(Dense(256, activation='relu'))\n",
    "    model.add(Dropout(0.5))\n",
    "    model.add(Dense(128, activation='relu'))\n",
    "    model.add(Dropout(0.5))\n",
    "    \n",
    "    # Output layer for regression\n",
    "    model.add(Dense(1, activation='linear'))\n",
    "    \n",
    "    # Compile the model\n",
    "    model.compile(optimizer='adam', loss='mean_squared_error', metrics=['mae'])\n",
    "    \n",
    "    return model\n",
    "\n",
    "# Example usage\n",
    "input_shape = (260, 311, 260, 1)  # Example input shape (e.g., 64x64x64 voxel data with 1 channel)\n",
    "\n",
    "# Assuming you have your data loaded in X_train and y_train\n",
    "# X_train = ... (your 3D data)\n",
    "# y_train = ... (your regression targets)\n",
    "\n",
    "# Train the model\n",
    "# model.fit(X_train, y_train, epochs=50, batch_size=16, validation_split=0.2)"
   ]
  },
  {
   "cell_type": "code",
   "execution_count": 2,
   "id": "1d4d9c33",
   "metadata": {},
   "outputs": [
    {
     "name": "stdout",
     "output_type": "stream",
     "text": [
      "Shape of the NIfTI image: (260, 311, 260)\n"
     ]
    }
   ],
   "source": [
    "import os\n",
    "import numpy as np\n",
    "\n",
    "# Load the NIfTI image\n",
    "directory = '/projectnb/ec523/projects/proj_GS_LQ_EPB/data/T1w/HCP/'\n",
    "files = os.listdir(directory)\n",
    "files2 = []\n",
    "for i in files:\n",
    "    if 'nii' in i:\n",
    "        files2.append(i)\n",
    "\n",
    "image_dict = {}\n",
    "count = 0\n",
    "for j in files2:\n",
    "    if j != '.nii.gz' and count < 100:\n",
    "        path1 = directory + j\n",
    "        nifti_image = nib.load(path1)\n",
    "        image_data = nifti_image.get_fdata()\n",
    "        max_value = np.max(image_data)\n",
    "        image_data = image_data / max_value\n",
    "        image_dict[j[0:6]] = image_data\n",
    "        count += 1\n",
    "\n",
    "#path1 = '/projectnb/ec523/projects/proj_GS_LQ_EPB/data/T1w/HCP/100206_T1w.nii.gz'\n",
    "\n",
    "#print(shapes)\n",
    "nifti_image = nib.load(path1)\n",
    "\n",
    "# Get the data from the NIfTI image\n",
    "image_data = nifti_image.get_fdata()\n",
    "print(\"Shape of the NIfTI image:\", image_data.shape)\n",
    "\n",
    "# Select a slice to display (e.g., the middle slice)\n",
    "slice_index = image_data.shape[2] // 2\n",
    "slice_data = image_data[:, :, slice_index]\n",
    "\n",
    "# Display the slice\n",
    "#plt.imshow(slice_data.T, cmap='gray', origin='lower')\n",
    "#plt.title('Middle Slice of NIfTI Image')\n",
    "#plt.axis('off')\n",
    "#plt.show()\n"
   ]
  },
  {
   "cell_type": "code",
   "execution_count": 3,
   "id": "7deb0cb3",
   "metadata": {},
   "outputs": [],
   "source": [
    "import pandas as pd\n",
    "\n",
    "# Load CSV file into a DataFrame\n",
    "df = pd.read_csv('/projectnb/ec523/projects/proj_GS_LQ_EPB/data/T1w/HCP/age/ages.csv')\n",
    "\n",
    "# Display the first few rows of the DataFrame\n",
    "#print(df.head())\n",
    "#print(type(df['age']))\n",
    "ages = list(df['age'])\n",
    "ids = list(df['subject_id'])\n",
    "key = {}\n",
    "for i,j in zip(ids,ages):\n",
    "    key[i] = j\n",
    "#print(key)\n",
    "#print(\"9\")\n",
    "#print(key.get(100004))"
   ]
  },
  {
   "cell_type": "code",
   "execution_count": null,
   "id": "b16b3f7c",
   "metadata": {},
   "outputs": [],
   "source": [
    "input_shape = (260, 311, 260, 1)  # Example input shape (e.g., 64x64x64 voxel data with 1 channel)\n",
    "model = create_3d_cnn(input_shape)\n",
    "# Print the model summary\n",
    "#model.summary()\n",
    "x_train = []\n",
    "y_train = []\n",
    "for i in df['subject_id']:\n",
    "    item = image_dict.get(str(i))\n",
    "    if item is not None:\n",
    "        x_train.append(item)\n",
    "        y_train.append(key.get(i))\n",
    "\n",
    "num_epochs = 5\n",
    "print(y_train)\n",
    "x_train = tf.convert_to_tensor(x_train, dtype=tf.float32)\n",
    "y_train = tf.convert_to_tensor(y_train, dtype=tf.float32)\n",
    "print(y_train)\n",
    "for epoch in range(num_epochs):\n",
    "    print(f\"\\nEpoch {epoch + 1}/{num_epochs}\")\n",
    "    \n",
    "    history = model.fit(\n",
    "        x_train, y_train,\n",
    "        epochs=1,\n",
    "        batch_size=2,\n",
    "        validation_split=0.2\n",
    "    )"
   ]
  }
 ],
 "metadata": {
  "kernelspec": {
   "display_name": "EC523_model",
   "language": "python",
   "name": "python3"
  },
  "language_info": {
   "codemirror_mode": {
    "name": "ipython",
    "version": 3
   },
   "file_extension": ".py",
   "mimetype": "text/x-python",
   "name": "python",
   "nbconvert_exporter": "python",
   "pygments_lexer": "ipython3",
   "version": "3.10.13"
  }
 },
 "nbformat": 4,
 "nbformat_minor": 5
}
