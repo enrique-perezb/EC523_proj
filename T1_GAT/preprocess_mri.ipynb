{
 "cells": [
  {
   "cell_type": "markdown",
   "metadata": {},
   "source": [
    "1. Get the brain graph for each participant"
   ]
  },
  {
   "cell_type": "code",
   "execution_count": 2,
   "metadata": {},
   "outputs": [
    {
     "name": "stderr",
     "output_type": "stream",
     "text": [
      "100%|██████████| 100/100 [09:35<00:00,  5.75s/it]\n",
      "100%|██████████| 100/100 [09:27<00:00,  5.68s/it]\n",
      "100%|██████████| 100/100 [09:34<00:00,  5.75s/it]\n",
      "100%|██████████| 50/50 [05:02<00:00,  6.05s/it]\n"
     ]
    }
   ],
   "source": [
    "import os\n",
    "import torch\n",
    "import pandas as pd\n",
    "from concurrent.futures import ProcessPoolExecutor, as_completed\n",
    "from tqdm import tqdm\n",
    "import gc\n",
    "\n",
    "from brain_graph import BrainGraph\n",
    "\n",
    "data_dir = '/projectnb/ec523/projects/proj_GS_LQ_EPB/data/T1w_segmented/HCP/'\n",
    "\n",
    "checkpoint_path = \"brain_graph_dataset.pt\"\n",
    "completed_ids_path = \"completed_subjects.txt\"\n",
    "\n",
    "# Load already completed subjects (for if/when code crashes)\n",
    "if os.path.exists(completed_ids_path):\n",
    "    with open(completed_ids_path, 'r') as f:\n",
    "        completed_subjects = set(line.strip() for line in f)\n",
    "else:\n",
    "    completed_subjects = set()\n",
    "\n",
    "# Load participant age info\n",
    "df = pd.read_csv(os.path.join(data_dir, 'ages.csv'), dtype={'subject_id': str})\n",
    "participant_ages = dict(zip(df['subject_id'], df['age']))\n",
    "\n",
    "# Build list of participants to process\n",
    "participants = []\n",
    "for participant in os.listdir(data_dir):\n",
    "    if participant in completed_subjects:\n",
    "        continue\n",
    "    participant_path = os.path.join(data_dir, participant)\n",
    "    if not os.path.isdir(participant_path):\n",
    "        continue\n",
    "    ct_file = os.path.join(participant_path, f\"{participant}_CorThick.nii.gz\")\n",
    "    seg_file = os.path.join(participant_path, f\"{participant}_wmparc.nii.gz\")\n",
    "    if not (os.path.exists(ct_file) and os.path.exists(seg_file)):\n",
    "        continue\n",
    "    age = participant_ages.get(participant)\n",
    "    if age is None:\n",
    "        continue\n",
    "    participants.append((participant, ct_file, seg_file, age))\n",
    "\n",
    "# Load any existing graphs\n",
    "if os.path.exists(checkpoint_path):\n",
    "    participant_graphs = torch.load(checkpoint_path, weights_only=False)\n",
    "else:\n",
    "    participant_graphs = []\n",
    "\n",
    "# Function to process one participant\n",
    "def process_participant(args):\n",
    "    participant, ct_file, seg_file, age = args\n",
    "    try:\n",
    "        graph_builder = BrainGraph(seg_file, ct_file)\n",
    "        graph_builder.get_region_stats()\n",
    "        graph_builder.get_region_centroids()\n",
    "        graph_builder.create_adjacency_list(k=5)\n",
    "        graph_builder.get_brain_graph(age)\n",
    "        graph = graph_builder.graph\n",
    "        return (participant, graph)\n",
    "    except Exception as e:\n",
    "        return (participant, f\"ERROR: {e}\")\n",
    "    finally:\n",
    "        del graph_builder\n",
    "        gc.collect()\n",
    "\n",
    "# Code to process in parallel (8 cores) and batches\n",
    "# Needed because code kept freezing or crashing after ~250 participants\n",
    "def chunks(lst, n):\n",
    "    for i in range(0, len(lst), n):\n",
    "        yield lst[i:i + n]\n",
    "\n",
    "chunk_size = 100\n",
    "max_workers = 8\n",
    "\n",
    "for batch in chunks(participants, chunk_size):\n",
    "    with ProcessPoolExecutor(max_workers=max_workers) as executor:\n",
    "        futures = {executor.submit(process_participant, p): p[0] for p in batch}\n",
    "        for future in tqdm(as_completed(futures), total=len(futures)):\n",
    "            participant, result = future.result()\n",
    "            if isinstance(result, str) and result.startswith(\"ERROR\"):\n",
    "                print(f\"Failed for participant {participant}: {result}\")\n",
    "            else:\n",
    "                participant_graphs.append(result)\n",
    "                # Save graph list\n",
    "                torch.save(participant_graphs, checkpoint_path)\n",
    "                # Append ID to completed file\n",
    "                with open(completed_ids_path, 'a') as f:\n",
    "                    f.write(f\"{participant}\\n\")\n"
   ]
  }
 ],
 "metadata": {
  "kernelspec": {
   "display_name": "ec523",
   "language": "python",
   "name": "python3"
  },
  "language_info": {
   "codemirror_mode": {
    "name": "ipython",
    "version": 3
   },
   "file_extension": ".py",
   "mimetype": "text/x-python",
   "name": "python",
   "nbconvert_exporter": "python",
   "pygments_lexer": "ipython3",
   "version": "3.13.2"
  }
 },
 "nbformat": 4,
 "nbformat_minor": 2
}
